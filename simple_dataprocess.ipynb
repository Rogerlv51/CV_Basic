{
 "cells": [
  {
   "cell_type": "code",
   "execution_count": 1,
   "metadata": {},
   "outputs": [],
   "source": [
    "### 非常简单的数据预处理回顾\n",
    "import torch\n",
    "import pandas as pd\n",
    "import os"
   ]
  },
  {
   "cell_type": "code",
   "execution_count": 16,
   "metadata": {},
   "outputs": [
    {
     "name": "stdout",
     "output_type": "stream",
     "text": [
      "NumRooms,Alley,Price\n",
      "NA,Pave,127500\n",
      "2,NA,106000\n",
      "4,NA,178100\n",
      "NA,NA,140000\n"
     ]
    }
   ],
   "source": [
    "os.makedirs(\"./data\", exist_ok=True)   # 首先我们事先在data文件夹中创建一个house.csv文件\n",
    "data_name = \"house.csv\"\n",
    "data_path = os.path.join(\"./data/\", data_name)\n",
    "with open(data_path, \"w\") as f:     # 打开文件并写入数据\n",
    "    f.write('NumRooms,Alley,Price\\n') # 列名\n",
    "    f.write('NA,Pave,127500\\n') # 每⾏表⽰⼀个数据样本\n",
    "    f.write('2,NA,106000\\n')\n",
    "    f.write('4,NA,178100\\n')\n",
    "    f.write('NA,NA,140000\\n')\n",
    "'''\n",
    "list = [\"a\",\"b\",\"c\", \"d\"]\n",
    "with open(data_path, \"w\") as fp:\n",
    "    for i in range(len(list)):\n",
    "        fp.write(list[i]+\".jpg\\n\")\n",
    "'''\n",
    "\n",
    "with open(data_path, \"r\") as f:    # 读取文件\n",
    "    for item in f.readlines():\n",
    "        print(item.split(\"\\n\")[0])"
   ]
  },
  {
   "cell_type": "code",
   "execution_count": 17,
   "metadata": {},
   "outputs": [
    {
     "name": "stdout",
     "output_type": "stream",
     "text": [
      "   NumRooms Alley   Price\n",
      "0       NaN  Pave  127500\n",
      "1       2.0   NaN  106000\n",
      "2       4.0   NaN  178100\n",
      "3       NaN   NaN  140000\n"
     ]
    }
   ],
   "source": [
    "data = pd.read_csv(data_path)     # 读取文件\n",
    "print(data)"
   ]
  },
  {
   "cell_type": "code",
   "execution_count": 30,
   "metadata": {},
   "outputs": [
    {
     "name": "stdout",
     "output_type": "stream",
     "text": [
      "   NumRooms Alley\n",
      "0       3.0  Pave\n",
      "1       2.0   NaN\n",
      "2       4.0   NaN\n",
      "3       3.0   NaN\n",
      "   NumRooms  Alley_Pave  Alley_nan\n",
      "0       3.0           1          0\n",
      "1       2.0           0          1\n",
      "2       4.0           0          1\n",
      "3       3.0           0          1\n"
     ]
    }
   ],
   "source": [
    "# 处理缺失值\n",
    "# 先把数据分为input和output\n",
    "inputs, output = data.iloc[:,:2], data.iloc[:,-1]\n",
    "inputs = inputs.fillna(value=inputs.mean())      # 填补缺失值，这里是使用平均值\n",
    "print(inputs)\n",
    "# 类别变量直接独热编码\n",
    "inputs = pd.get_dummies(inputs, dummy_na=True)    # dummy_na表示是否要将NA值单独拿出来\n",
    "print(inputs)"
   ]
  },
  {
   "cell_type": "code",
   "execution_count": null,
   "metadata": {},
   "outputs": [],
   "source": []
  }
 ],
 "metadata": {
  "kernelspec": {
   "display_name": "Python 3.8.5 ('pytorch_gpu')",
   "language": "python",
   "name": "python3"
  },
  "language_info": {
   "codemirror_mode": {
    "name": "ipython",
    "version": 3
   },
   "file_extension": ".py",
   "mimetype": "text/x-python",
   "name": "python",
   "nbconvert_exporter": "python",
   "pygments_lexer": "ipython3",
   "version": "3.8.5"
  },
  "orig_nbformat": 4,
  "vscode": {
   "interpreter": {
    "hash": "2679cf41411127fad6b4c826b494c1155011be46cd2606cdd62e601481ef25df"
   }
  }
 },
 "nbformat": 4,
 "nbformat_minor": 2
}
